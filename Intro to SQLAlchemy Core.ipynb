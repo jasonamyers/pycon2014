{
 "metadata": {
  "name": "",
  "signature": "sha256:190d9f486766039307a4523003bf07e066bc64eb40d3a5e9e1de1d360ab814f0"
 },
 "nbformat": 3,
 "nbformat_minor": 0,
 "worksheets": [
  {
   "cells": [
    {
     "cell_type": "code",
     "collapsed": false,
     "input": [
      "import sqlalchemy\n",
      "from sqlalchemy import create_engine\n",
      "engine = create_engine('sqlite:///:memory:', echo=True)"
     ],
     "language": "python",
     "metadata": {},
     "outputs": [],
     "prompt_number": 33
    },
    {
     "cell_type": "code",
     "collapsed": false,
     "input": [
      "from sqlalchemy import Table, Column, Integer, String, MetaData, ForeignKey\n",
      "metadata = MetaData()\n",
      "actors = Table('actors', metadata,\n",
      "    Column('id', Integer, primary_key=True),\n",
      "    Column('name', String),\n",
      "    Column('fullname', String),\n",
      ")\n",
      "roles = Table('roles', metadata,\n",
      "    Column('id', Integer, primary_key=True),\n",
      "    Column('actor_id', None, ForeignKey('actors.id')),\n",
      "    Column('character_name', String, nullable=False)\n",
      ")"
     ],
     "language": "python",
     "metadata": {},
     "outputs": [],
     "prompt_number": 35
    },
    {
     "cell_type": "code",
     "collapsed": false,
     "input": [
      "metadata.tables"
     ],
     "language": "python",
     "metadata": {},
     "outputs": [
      {
       "metadata": {},
       "output_type": "pyout",
       "prompt_number": 36,
       "text": [
        "immutabledict({'actors': Table('actors', MetaData(bind=None), Column('id', Integer(), table=<actors>, primary_key=True, nullable=False), Column('name', String(), table=<actors>), Column('fullname', String(), table=<actors>), schema=None), 'roles': Table('roles', MetaData(bind=None), Column('id', Integer(), table=<roles>, primary_key=True, nullable=False), Column('actor_id', Integer(), ForeignKey('actors.id'), table=<roles>), Column('character_name', String(), table=<roles>, nullable=False), schema=None)})"
       ]
      }
     ],
     "prompt_number": 36
    },
    {
     "cell_type": "code",
     "collapsed": false,
     "input": [
      "metadata.create_all(engine)"
     ],
     "language": "python",
     "metadata": {},
     "outputs": [
      {
       "output_type": "stream",
       "stream": "stdout",
       "text": [
        "2014-04-02 20:34:15,628 INFO sqlalchemy.engine.base.Engine SELECT CAST('test plain returns' AS VARCHAR(60)) AS anon_1\n"
       ]
      },
      {
       "output_type": "stream",
       "stream": "stderr",
       "text": [
        "INFO:sqlalchemy.engine.base.Engine:SELECT CAST('test plain returns' AS VARCHAR(60)) AS anon_1\n"
       ]
      },
      {
       "output_type": "stream",
       "stream": "stdout",
       "text": [
        "2014-04-02 20:34:15,629 INFO sqlalchemy.engine.base.Engine ()\n"
       ]
      },
      {
       "output_type": "stream",
       "stream": "stderr",
       "text": [
        "INFO:sqlalchemy.engine.base.Engine:()\n"
       ]
      },
      {
       "output_type": "stream",
       "stream": "stdout",
       "text": [
        "2014-04-02 20:34:15,630 INFO sqlalchemy.engine.base.Engine SELECT CAST('test unicode returns' AS VARCHAR(60)) AS anon_1\n"
       ]
      },
      {
       "output_type": "stream",
       "stream": "stderr",
       "text": [
        "INFO:sqlalchemy.engine.base.Engine:SELECT CAST('test unicode returns' AS VARCHAR(60)) AS anon_1\n"
       ]
      },
      {
       "output_type": "stream",
       "stream": "stdout",
       "text": [
        "2014-04-02 20:34:15,631 INFO sqlalchemy.engine.base.Engine ()\n"
       ]
      },
      {
       "output_type": "stream",
       "stream": "stderr",
       "text": [
        "INFO:sqlalchemy.engine.base.Engine:()\n"
       ]
      },
      {
       "output_type": "stream",
       "stream": "stdout",
       "text": [
        "2014-04-02 20:34:15,632 INFO sqlalchemy.engine.base.Engine PRAGMA table_info(\"actors\")\n"
       ]
      },
      {
       "output_type": "stream",
       "stream": "stderr",
       "text": [
        "INFO:sqlalchemy.engine.base.Engine:PRAGMA table_info(\"actors\")\n"
       ]
      },
      {
       "output_type": "stream",
       "stream": "stdout",
       "text": [
        "2014-04-02 20:34:15,633 INFO sqlalchemy.engine.base.Engine ()\n"
       ]
      },
      {
       "output_type": "stream",
       "stream": "stderr",
       "text": [
        "INFO:sqlalchemy.engine.base.Engine:()\n"
       ]
      },
      {
       "output_type": "stream",
       "stream": "stdout",
       "text": [
        "2014-04-02 20:34:15,634 INFO sqlalchemy.engine.base.Engine PRAGMA table_info(\"roles\")\n"
       ]
      },
      {
       "output_type": "stream",
       "stream": "stderr",
       "text": [
        "INFO:sqlalchemy.engine.base.Engine:PRAGMA table_info(\"roles\")\n"
       ]
      },
      {
       "output_type": "stream",
       "stream": "stdout",
       "text": [
        "2014-04-02 20:34:15,634 INFO sqlalchemy.engine.base.Engine ()\n"
       ]
      },
      {
       "output_type": "stream",
       "stream": "stderr",
       "text": [
        "INFO:sqlalchemy.engine.base.Engine:()\n"
       ]
      },
      {
       "output_type": "stream",
       "stream": "stdout",
       "text": [
        "2014-04-02 20:34:15,635 INFO sqlalchemy.engine.base.Engine \n",
        "CREATE TABLE actors (\n",
        "\tid INTEGER NOT NULL, \n",
        "\tname VARCHAR, \n",
        "\tfullname VARCHAR, \n",
        "\tPRIMARY KEY (id)\n",
        ")\n",
        "\n",
        "\n"
       ]
      },
      {
       "output_type": "stream",
       "stream": "stderr",
       "text": [
        "INFO:sqlalchemy.engine.base.Engine:\n",
        "CREATE TABLE actors (\n",
        "\tid INTEGER NOT NULL, \n",
        "\tname VARCHAR, \n",
        "\tfullname VARCHAR, \n",
        "\tPRIMARY KEY (id)\n",
        ")\n",
        "\n",
        "\n"
       ]
      },
      {
       "output_type": "stream",
       "stream": "stdout",
       "text": [
        "2014-04-02 20:34:15,636 INFO sqlalchemy.engine.base.Engine ()\n"
       ]
      },
      {
       "output_type": "stream",
       "stream": "stderr",
       "text": [
        "INFO:sqlalchemy.engine.base.Engine:()\n"
       ]
      },
      {
       "output_type": "stream",
       "stream": "stdout",
       "text": [
        "2014-04-02 20:34:15,636 INFO sqlalchemy.engine.base.Engine COMMIT\n"
       ]
      },
      {
       "output_type": "stream",
       "stream": "stderr",
       "text": [
        "INFO:sqlalchemy.engine.base.Engine:COMMIT\n"
       ]
      },
      {
       "output_type": "stream",
       "stream": "stdout",
       "text": [
        "2014-04-02 20:34:15,637 INFO sqlalchemy.engine.base.Engine \n",
        "CREATE TABLE roles (\n",
        "\tid INTEGER NOT NULL, \n",
        "\tactor_id INTEGER, \n",
        "\tcharacter_name VARCHAR NOT NULL, \n",
        "\tPRIMARY KEY (id), \n",
        "\tFOREIGN KEY(actor_id) REFERENCES actors (id)\n",
        ")\n",
        "\n",
        "\n"
       ]
      },
      {
       "output_type": "stream",
       "stream": "stderr",
       "text": [
        "INFO:sqlalchemy.engine.base.Engine:\n",
        "CREATE TABLE roles (\n",
        "\tid INTEGER NOT NULL, \n",
        "\tactor_id INTEGER, \n",
        "\tcharacter_name VARCHAR NOT NULL, \n",
        "\tPRIMARY KEY (id), \n",
        "\tFOREIGN KEY(actor_id) REFERENCES actors (id)\n",
        ")\n",
        "\n",
        "\n"
       ]
      },
      {
       "output_type": "stream",
       "stream": "stdout",
       "text": [
        "2014-04-02 20:34:15,638 INFO sqlalchemy.engine.base.Engine ()\n"
       ]
      },
      {
       "output_type": "stream",
       "stream": "stderr",
       "text": [
        "INFO:sqlalchemy.engine.base.Engine:()\n"
       ]
      },
      {
       "output_type": "stream",
       "stream": "stdout",
       "text": [
        "2014-04-02 20:34:15,639 INFO sqlalchemy.engine.base.Engine COMMIT\n"
       ]
      },
      {
       "output_type": "stream",
       "stream": "stderr",
       "text": [
        "INFO:sqlalchemy.engine.base.Engine:COMMIT\n"
       ]
      }
     ],
     "prompt_number": 37
    },
    {
     "cell_type": "code",
     "collapsed": false,
     "input": [
      "conn = engine.connect()"
     ],
     "language": "python",
     "metadata": {},
     "outputs": [],
     "prompt_number": 38
    },
    {
     "cell_type": "code",
     "collapsed": false,
     "input": [
      "ins = actors.insert().values(name='Graham', fullname='Graham Chapman')\n",
      "result = conn.execute(ins)\n",
      "ins = actors.insert().values(name='John', fullname='John Cleese')\n",
      "result = conn.execute(ins)\n",
      "ins = actors.insert().values(name='Terry', fullname='Terry Gilliam')\n",
      "result = conn.execute(ins)"
     ],
     "language": "python",
     "metadata": {},
     "outputs": [
      {
       "output_type": "stream",
       "stream": "stdout",
       "text": [
        "2014-04-02 20:34:16,737 INFO sqlalchemy.engine.base.Engine INSERT INTO actors (name, fullname) VALUES (?, ?)\n"
       ]
      },
      {
       "output_type": "stream",
       "stream": "stderr",
       "text": [
        "INFO:sqlalchemy.engine.base.Engine:INSERT INTO actors (name, fullname) VALUES (?, ?)\n"
       ]
      },
      {
       "output_type": "stream",
       "stream": "stdout",
       "text": [
        "2014-04-02 20:34:16,738 INFO sqlalchemy.engine.base.Engine ('Graham', 'Graham Chapman')\n"
       ]
      },
      {
       "output_type": "stream",
       "stream": "stderr",
       "text": [
        "INFO:sqlalchemy.engine.base.Engine:('Graham', 'Graham Chapman')\n"
       ]
      },
      {
       "output_type": "stream",
       "stream": "stdout",
       "text": [
        "2014-04-02 20:34:16,739 INFO sqlalchemy.engine.base.Engine COMMIT\n"
       ]
      },
      {
       "output_type": "stream",
       "stream": "stderr",
       "text": [
        "INFO:sqlalchemy.engine.base.Engine:COMMIT\n"
       ]
      },
      {
       "output_type": "stream",
       "stream": "stdout",
       "text": [
        "2014-04-02 20:34:16,741 INFO sqlalchemy.engine.base.Engine INSERT INTO actors (name, fullname) VALUES (?, ?)\n"
       ]
      },
      {
       "output_type": "stream",
       "stream": "stderr",
       "text": [
        "INFO:sqlalchemy.engine.base.Engine:INSERT INTO actors (name, fullname) VALUES (?, ?)\n"
       ]
      },
      {
       "output_type": "stream",
       "stream": "stdout",
       "text": [
        "2014-04-02 20:34:16,742 INFO sqlalchemy.engine.base.Engine ('John', 'John Cleese')\n"
       ]
      },
      {
       "output_type": "stream",
       "stream": "stderr",
       "text": [
        "INFO:sqlalchemy.engine.base.Engine:('John', 'John Cleese')\n"
       ]
      },
      {
       "output_type": "stream",
       "stream": "stdout",
       "text": [
        "2014-04-02 20:34:16,743 INFO sqlalchemy.engine.base.Engine COMMIT\n"
       ]
      },
      {
       "output_type": "stream",
       "stream": "stderr",
       "text": [
        "INFO:sqlalchemy.engine.base.Engine:COMMIT\n"
       ]
      },
      {
       "output_type": "stream",
       "stream": "stdout",
       "text": [
        "2014-04-02 20:34:16,744 INFO sqlalchemy.engine.base.Engine INSERT INTO actors (name, fullname) VALUES (?, ?)\n"
       ]
      },
      {
       "output_type": "stream",
       "stream": "stderr",
       "text": [
        "INFO:sqlalchemy.engine.base.Engine:INSERT INTO actors (name, fullname) VALUES (?, ?)\n"
       ]
      },
      {
       "output_type": "stream",
       "stream": "stdout",
       "text": [
        "2014-04-02 20:34:16,745 INFO sqlalchemy.engine.base.Engine ('Terry', 'Terry Gilliam')\n"
       ]
      },
      {
       "output_type": "stream",
       "stream": "stderr",
       "text": [
        "INFO:sqlalchemy.engine.base.Engine:('Terry', 'Terry Gilliam')\n"
       ]
      },
      {
       "output_type": "stream",
       "stream": "stdout",
       "text": [
        "2014-04-02 20:34:16,746 INFO sqlalchemy.engine.base.Engine COMMIT\n"
       ]
      },
      {
       "output_type": "stream",
       "stream": "stderr",
       "text": [
        "INFO:sqlalchemy.engine.base.Engine:COMMIT\n"
       ]
      }
     ],
     "prompt_number": 39
    },
    {
     "cell_type": "code",
     "collapsed": false,
     "input": [
      "conn.execute(roles.insert(), [ \n",
      "    {'actor_id': 1, 'character_name' : 'King Arthur'},\n",
      "    {'actor_id': 1, 'character_name' : 'Voice of God'},\n",
      "    {'actor_id': 2, 'character_name' : 'Sir Lancelot'},\n",
      "    {'actor_id': 2, 'character_name' : 'Black Knight'},\n",
      "    {'actor_id': 3, 'character_name' : 'Patsy'},\n",
      "    {'actor_id': 3, 'character_name' : 'Sir Bors'},\n",
      "])"
     ],
     "language": "python",
     "metadata": {},
     "outputs": [
      {
       "output_type": "stream",
       "stream": "stdout",
       "text": [
        "2014-04-02 20:34:17,279 INFO sqlalchemy.engine.base.Engine INSERT INTO roles (actor_id, character_name) VALUES (?, ?)\n"
       ]
      },
      {
       "output_type": "stream",
       "stream": "stderr",
       "text": [
        "INFO:sqlalchemy.engine.base.Engine:INSERT INTO roles (actor_id, character_name) VALUES (?, ?)\n"
       ]
      },
      {
       "output_type": "stream",
       "stream": "stdout",
       "text": [
        "2014-04-02 20:34:17,280 INFO sqlalchemy.engine.base.Engine ((1, 'King Arthur'), (1, 'Voice of God'), (2, 'Sir Lancelot'), (2, 'Black Knight'), (3, 'Patsy'), (3, 'Sir Bors'))\n"
       ]
      },
      {
       "output_type": "stream",
       "stream": "stderr",
       "text": [
        "INFO:sqlalchemy.engine.base.Engine:((1, 'King Arthur'), (1, 'Voice of God'), (2, 'Sir Lancelot'), (2, 'Black Knight'), (3, 'Patsy'), (3, 'Sir Bors'))\n"
       ]
      },
      {
       "output_type": "stream",
       "stream": "stdout",
       "text": [
        "2014-04-02 20:34:17,282 INFO sqlalchemy.engine.base.Engine COMMIT\n"
       ]
      },
      {
       "output_type": "stream",
       "stream": "stderr",
       "text": [
        "INFO:sqlalchemy.engine.base.Engine:COMMIT\n"
       ]
      },
      {
       "metadata": {},
       "output_type": "pyout",
       "prompt_number": 40,
       "text": [
        "<sqlalchemy.engine.result.ResultProxy at 0x1050dae10>"
       ]
      }
     ],
     "prompt_number": 40
    },
    {
     "cell_type": "code",
     "collapsed": false,
     "input": [
      "from sqlalchemy.sql import select\n",
      "s = select([actors])\n",
      "result = conn.execute(s)"
     ],
     "language": "python",
     "metadata": {},
     "outputs": [
      {
       "output_type": "stream",
       "stream": "stdout",
       "text": [
        "2014-04-02 20:34:18,372 INFO sqlalchemy.engine.base.Engine SELECT actors.id, actors.name, actors.fullname \n",
        "FROM actors\n"
       ]
      },
      {
       "output_type": "stream",
       "stream": "stderr",
       "text": [
        "INFO:sqlalchemy.engine.base.Engine:SELECT actors.id, actors.name, actors.fullname \n",
        "FROM actors\n"
       ]
      },
      {
       "output_type": "stream",
       "stream": "stdout",
       "text": [
        "2014-04-02 20:34:18,373 INFO sqlalchemy.engine.base.Engine ()\n"
       ]
      },
      {
       "output_type": "stream",
       "stream": "stderr",
       "text": [
        "INFO:sqlalchemy.engine.base.Engine:()\n"
       ]
      }
     ],
     "prompt_number": 41
    },
    {
     "cell_type": "code",
     "collapsed": false,
     "input": [
      "for row in result:\n",
      "    print row"
     ],
     "language": "python",
     "metadata": {},
     "outputs": [
      {
       "output_type": "stream",
       "stream": "stdout",
       "text": [
        "(1, u'Graham', u'Graham Chapman')\n",
        "(2, u'John', u'John Cleese')\n",
        "(3, u'Terry', u'Terry Gilliam')\n"
       ]
      }
     ],
     "prompt_number": 42
    },
    {
     "cell_type": "code",
     "collapsed": false,
     "input": [
      "s = select([actors.c.name, actors.c.fullname])\n",
      "result = conn.execute(s)\n",
      "for row in result:\n",
      "    print row"
     ],
     "language": "python",
     "metadata": {},
     "outputs": [
      {
       "output_type": "stream",
       "stream": "stdout",
       "text": [
        "2014-04-02 20:36:10,298 INFO sqlalchemy.engine.base.Engine SELECT actors.name, actors.fullname \n",
        "FROM actors\n"
       ]
      },
      {
       "output_type": "stream",
       "stream": "stderr",
       "text": [
        "INFO:sqlalchemy.engine.base.Engine:SELECT actors.name, actors.fullname \n",
        "FROM actors\n"
       ]
      },
      {
       "output_type": "stream",
       "stream": "stdout",
       "text": [
        "2014-04-02 20:36:10,299 INFO sqlalchemy.engine.base.Engine ()\n"
       ]
      },
      {
       "output_type": "stream",
       "stream": "stderr",
       "text": [
        "INFO:sqlalchemy.engine.base.Engine:()\n"
       ]
      },
      {
       "output_type": "stream",
       "stream": "stdout",
       "text": [
        "(u'Graham', u'Graham Chapman')\n",
        "(u'John', u'John Cleese')\n",
        "(u'Terry', u'Terry Gilliam')\n"
       ]
      }
     ],
     "prompt_number": 43
    },
    {
     "cell_type": "code",
     "collapsed": false,
     "input": [
      "stmt = select([actors.c.name]).order_by(actors.c.name.desc())\n",
      "conn.execute(stmt).fetchall()"
     ],
     "language": "python",
     "metadata": {},
     "outputs": [
      {
       "output_type": "stream",
       "stream": "stdout",
       "text": [
        "2014-04-02 20:47:07,557 INFO sqlalchemy.engine.base.Engine SELECT actors.name \n",
        "FROM actors ORDER BY actors.name DESC\n"
       ]
      },
      {
       "output_type": "stream",
       "stream": "stderr",
       "text": [
        "INFO:sqlalchemy.engine.base.Engine:SELECT actors.name \n",
        "FROM actors ORDER BY actors.name DESC\n"
       ]
      },
      {
       "output_type": "stream",
       "stream": "stdout",
       "text": [
        "2014-04-02 20:47:07,559 INFO sqlalchemy.engine.base.Engine ()\n"
       ]
      },
      {
       "output_type": "stream",
       "stream": "stderr",
       "text": [
        "INFO:sqlalchemy.engine.base.Engine:()\n"
       ]
      },
      {
       "metadata": {},
       "output_type": "pyout",
       "prompt_number": 46,
       "text": [
        "[(u'Terry',), (u'John',), (u'Graham',)]"
       ]
      }
     ],
     "prompt_number": 46
    },
    {
     "cell_type": "code",
     "collapsed": false,
     "input": [
      "from sqlalchemy.sql import func\n",
      "stmt = select([actors.c.name, func.count(roles.c.id)]).\\\n",
      "    select_from(actors.join(roles)).\\\n",
      "    group_by(actors.c.name)\n",
      "conn.execute(stmt).fetchall()"
     ],
     "language": "python",
     "metadata": {},
     "outputs": [
      {
       "output_type": "stream",
       "stream": "stdout",
       "text": [
        "2014-04-02 20:48:47,541 INFO sqlalchemy.engine.base.Engine SELECT actors.name, count(roles.id) AS count_1 \n",
        "FROM actors JOIN roles ON actors.id = roles.actor_id GROUP BY actors.name\n"
       ]
      },
      {
       "output_type": "stream",
       "stream": "stderr",
       "text": [
        "INFO:sqlalchemy.engine.base.Engine:SELECT actors.name, count(roles.id) AS count_1 \n",
        "FROM actors JOIN roles ON actors.id = roles.actor_id GROUP BY actors.name\n"
       ]
      },
      {
       "output_type": "stream",
       "stream": "stdout",
       "text": [
        "2014-04-02 20:48:47,542 INFO sqlalchemy.engine.base.Engine ()\n"
       ]
      },
      {
       "output_type": "stream",
       "stream": "stderr",
       "text": [
        "INFO:sqlalchemy.engine.base.Engine:()\n"
       ]
      },
      {
       "metadata": {},
       "output_type": "pyout",
       "prompt_number": 48,
       "text": [
        "[(u'Graham', 2), (u'John', 2), (u'Terry', 2)]"
       ]
      }
     ],
     "prompt_number": 48
    },
    {
     "cell_type": "code",
     "collapsed": false,
     "input": [
      "stmt = select([actors.c.name, roles.c.character_name]).\\\n",
      "    select_from(actors.join(roles)).\\\n",
      "    limit(1).offset(1)\n",
      "conn.execute(stmt).fetchall()  "
     ],
     "language": "python",
     "metadata": {},
     "outputs": [
      {
       "output_type": "stream",
       "stream": "stdout",
       "text": [
        "2014-04-02 20:51:56,728 INFO sqlalchemy.engine.base.Engine SELECT actors.name, roles.character_name \n",
        "FROM actors JOIN roles ON actors.id = roles.actor_id\n",
        " LIMIT ? OFFSET ?\n"
       ]
      },
      {
       "output_type": "stream",
       "stream": "stderr",
       "text": [
        "INFO:sqlalchemy.engine.base.Engine:SELECT actors.name, roles.character_name \n",
        "FROM actors JOIN roles ON actors.id = roles.actor_id\n",
        " LIMIT ? OFFSET ?\n"
       ]
      },
      {
       "output_type": "stream",
       "stream": "stdout",
       "text": [
        "2014-04-02 20:51:56,729 INFO sqlalchemy.engine.base.Engine (1, 1)\n"
       ]
      },
      {
       "output_type": "stream",
       "stream": "stderr",
       "text": [
        "INFO:sqlalchemy.engine.base.Engine:(1, 1)\n"
       ]
      },
      {
       "metadata": {},
       "output_type": "pyout",
       "prompt_number": 49,
       "text": [
        "[(u'Graham', u'Voice of God')]"
       ]
      }
     ],
     "prompt_number": 49
    },
    {
     "cell_type": "code",
     "collapsed": false,
     "input": [
      "s = select([actors, roles]).where(actors.c.id == roles.c.actor_id)\n",
      "for row in conn.execute(s):\n",
      "    print row"
     ],
     "language": "python",
     "metadata": {},
     "outputs": [
      {
       "output_type": "stream",
       "stream": "stdout",
       "text": [
        "2014-04-02 20:40:24,957 INFO sqlalchemy.engine.base.Engine SELECT actors.id, actors.name, actors.fullname, roles.id, roles.actor_id, roles.character_name \n",
        "FROM actors, roles \n",
        "WHERE actors.id = roles.actor_id\n"
       ]
      },
      {
       "output_type": "stream",
       "stream": "stderr",
       "text": [
        "INFO:sqlalchemy.engine.base.Engine:SELECT actors.id, actors.name, actors.fullname, roles.id, roles.actor_id, roles.character_name \n",
        "FROM actors, roles \n",
        "WHERE actors.id = roles.actor_id\n"
       ]
      },
      {
       "output_type": "stream",
       "stream": "stdout",
       "text": [
        "2014-04-02 20:40:24,958 INFO sqlalchemy.engine.base.Engine ()\n"
       ]
      },
      {
       "output_type": "stream",
       "stream": "stderr",
       "text": [
        "INFO:sqlalchemy.engine.base.Engine:()\n"
       ]
      },
      {
       "output_type": "stream",
       "stream": "stdout",
       "text": [
        "(1, u'Graham', u'Graham Chapman', 1, 1, u'King Arthur')\n",
        "(1, u'Graham', u'Graham Chapman', 2, 1, u'Voice of God')\n",
        "(2, u'John', u'John Cleese', 3, 2, u'Sir Lancelot')\n",
        "(2, u'John', u'John Cleese', 4, 2, u'Black Knight')\n",
        "(3, u'Terry', u'Terry Gilliam', 5, 3, u'Patsy')\n",
        "(3, u'Terry', u'Terry Gilliam', 6, 3, u'Sir Bors')\n"
       ]
      }
     ],
     "prompt_number": 45
    },
    {
     "cell_type": "code",
     "collapsed": false,
     "input": [
      "from sqlalchemy.sql import and_, or_, not_"
     ],
     "language": "python",
     "metadata": {},
     "outputs": [],
     "prompt_number": 53
    },
    {
     "cell_type": "code",
     "collapsed": false,
     "input": [
      "stmt = select([actors.c.name, roles.c.character_name]).\\\n",
      "    where(\n",
      "        and_(\n",
      "          actors.c.name.like('Gra%'),\n",
      "          roles.c.character_name.like('Vo%')\n",
      "        )\n",
      "    )\n",
      "conn.execute(stmt).fetchall()"
     ],
     "language": "python",
     "metadata": {},
     "outputs": [
      {
       "output_type": "stream",
       "stream": "stdout",
       "text": [
        "2014-04-02 20:58:32,436 INFO sqlalchemy.engine.base.Engine SELECT actors.name, roles.character_name \n",
        "FROM actors, roles \n",
        "WHERE actors.name LIKE ? AND roles.character_name LIKE ?\n"
       ]
      },
      {
       "output_type": "stream",
       "stream": "stderr",
       "text": [
        "INFO:sqlalchemy.engine.base.Engine:SELECT actors.name, roles.character_name \n",
        "FROM actors, roles \n",
        "WHERE actors.name LIKE ? AND roles.character_name LIKE ?\n"
       ]
      },
      {
       "output_type": "stream",
       "stream": "stdout",
       "text": [
        "2014-04-02 20:58:32,437 INFO sqlalchemy.engine.base.Engine ('Gra%', 'Vo%')\n"
       ]
      },
      {
       "output_type": "stream",
       "stream": "stderr",
       "text": [
        "INFO:sqlalchemy.engine.base.Engine:('Gra%', 'Vo%')\n"
       ]
      },
      {
       "metadata": {},
       "output_type": "pyout",
       "prompt_number": 57,
       "text": [
        "[(u'Graham', u'Voice of God')]"
       ]
      }
     ],
     "prompt_number": 57
    }
   ],
   "metadata": {}
  }
 ]
}